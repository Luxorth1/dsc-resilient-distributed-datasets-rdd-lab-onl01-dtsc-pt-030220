{
  "nbformat": 4,
  "nbformat_minor": 0,
  "metadata": {
    "kernelspec": {
      "display_name": "Python 3",
      "language": "python",
      "name": "python3"
    },
    "language_info": {
      "codemirror_mode": {
        "name": "ipython",
        "version": 3
      },
      "file_extension": ".py",
      "mimetype": "text/x-python",
      "name": "python",
      "nbconvert_exporter": "python",
      "pygments_lexer": "ipython3",
      "version": "3.7.3"
    },
    "colab": {
      "name": "index.ipynb",
      "provenance": [],
      "collapsed_sections": []
    }
  },
  "cells": [
    {
      "cell_type": "markdown",
      "metadata": {
        "id": "bTOD2fDyp0C5",
        "colab_type": "text"
      },
      "source": [
        "## Resilient Distributed Datasets (RDDs) - Lab\n",
        "\n",
        "Resilient Distributed Datasets (RDD) are fundamental data structures of Spark. An RDD is essentially the Spark representation of a set of data, spread across multiple machines, with APIs to let you act on it. An RDD can come from any data source, e.g. text files, a database, a JSON file, etc.\n",
        "\n",
        "\n",
        "## Objectives\n",
        "\n",
        "You will be able to:\n",
        "\n",
        "- Apply the map(func) transformation to a given function on all elements of an RDD in different partitions \n",
        "- Apply a map transformation for all elements of an RDD \n",
        "- Compare the difference between a transformation and an action within RDDs \n",
        "- Use collect(), count(), and take() actions to trigger spark transformations  \n",
        "- Use filter to select data that meets certain specifications within an RDD \n",
        "- Set number of partitions for parallelizing RDDs \n",
        "- Create RDDs from Python collections \n"
      ]
    },
    {
      "cell_type": "markdown",
      "metadata": {
        "id": "-Ly1NgZ6p0C6",
        "colab_type": "text"
      },
      "source": [
        "## What are RDDs? \n",
        "\n",
        "To get a better understanding of RDDs, let's break down each one of the components of the acronym RDD:\n",
        "\n",
        "Resilient: RDDs are considered \"resilient\" because they have built-in fault tolerance. This means that even if one of the nodes goes offline, RDDs will be able to restore the data. This is already a huge advantage compared to standard storage. If a standard computer dies while performing an operation, all of its memory will be lost in the process. With RDDs, multiple nodes can go offline, and the action will still be held in working memory.\n",
        "\n",
        "Distributed: The data is contained on multiple nodes of a cluster-computing operation. It is efficiently partitioned to allow for parallelism.\n",
        "\n",
        "Dataset: The dataset has been * partitioned * across the multiple nodes. \n",
        "\n",
        "RDDs are the building block upon which more high-level Spark operations are based upon. Chances are, if you are performing an action using Spark, the operation involves RDDs. \n",
        "\n",
        "\n",
        "\n",
        "Key Characteristics of RDDs:\n",
        "\n",
        "- Immutable: Once an RDD is created, it cannot be modified. \n",
        "- Lazily Evaluated: RDDs will not be evaluated until an action is triggered. Essentially, when RDDs are created, they are programmed to perform some action, but that function will not get activated until it is explicitly called. The reason for lazy evaluation is that allows users to organize the actions of their Spark program into smaller actions. It also saves unnecessary computation and memory load.\n",
        "- In-Memory: The operations in Spark are performed in-memory rather than in the database. This is what allows Spark to perform fast operations with very large quantities of data.\n",
        "\n",
        "\n"
      ]
    },
    {
      "cell_type": "markdown",
      "metadata": {
        "id": "Twq54dKmp0C8",
        "colab_type": "text"
      },
      "source": [
        "### RDD Transformations vs Actions\n",
        "\n",
        "In Spark, we first create a __base RDD__ and then apply one or more transformations to that base RDD following our processing needs. Being immutable means, **once an RDD is created, it cannot be changed**. As a result, **each transformation of an RDD creates a new RDD**. Finally, we can apply one or more **actions** to the RDDs. Spark uses lazy evaluation, so transformations are not actually executed until an action occurs.\n",
        "\n",
        "\n",
        "<img src=\"./images/rdd_diagram.png\" width=500>"
      ]
    },
    {
      "cell_type": "markdown",
      "metadata": {
        "id": "ACMflE-Zp0C9",
        "colab_type": "text"
      },
      "source": [
        "### Transformations\n",
        "\n",
        "Transformations create a new dataset from an existing one by passing each dataset element through a function and returning a new RDD representing the results. In short, creating an RDD from an existing RDD is ‘transformation’.\n",
        "All transformations in Spark are lazy. They do not compute their results right away. Instead, they just remember the transformations applied to some base dataset (e.g. a file). The transformations are only computed when an action requires a result that needs to be returned to the driver program.\n",
        "A transformation is an RDD that returns another RDD, like map, flatMap, filter, reduceByKey, join, cogroup, etc.\n",
        "\n",
        "### Actions\n",
        "Actions return final results of RDD computations. Actions trigger execution using lineage graph to load the data into original RDD and carry out all intermediate transformations and return the final results to the driver program or writes it out to the file system. An action returns a value (to a Spark driver - the user program).\n",
        "\n",
        "Here are some key transformations and actions that we will explore.\n",
        "\n",
        "\n",
        "| Transformations   | Actions       |\n",
        "|-------------------|---------------|\n",
        "| map(func)         | reduce(func)  |\n",
        "| filter(func)      | collect()     |\n",
        "| groupByKey()      | count()       |\n",
        "| reduceByKey(func) | first()       |\n",
        "| mapValues(func)   | take()        |\n",
        "| sample()          | countByKey()  |\n",
        "| distinct()        | foreach(func) |\n",
        "| sortByKey()       |               |\n"
      ]
    },
    {
      "cell_type": "markdown",
      "metadata": {
        "id": "RkTdBxzap0C-",
        "colab_type": "text"
      },
      "source": [
        "Let's see how transformations and actions work through a simple example. In this example, we will perform several actions and transformations on RDDs in order to obtain a better understanding of Spark processing. \n",
        "\n",
        "### Create a Python collection \n",
        "\n",
        "We need some data to start experimenting with RDDs. Let's create some sample data and see how RDDs handle it. To practice working with RDDs, we're going to use a simple Python list.\n",
        "\n",
        "- Create a Python list `data` of integers between 1 and 1000 using the `range()` function. \n",
        "- Sanity check: confirm the length of the list (it should be 1000)"
      ]
    },
    {
      "cell_type": "code",
      "metadata": {
        "id": "4v6aq9oTp0C_",
        "colab_type": "code",
        "colab": {
          "base_uri": "https://localhost:8080/",
          "height": 34
        },
        "outputId": "f33249fc-ca18-4250-baa3-4c8042c61d9c"
      },
      "source": [
        "data = range(0,1000)\n",
        "len(data)\n",
        "\n",
        "# 1000"
      ],
      "execution_count": 4,
      "outputs": [
        {
          "output_type": "execute_result",
          "data": {
            "text/plain": [
              "1000"
            ]
          },
          "metadata": {
            "tags": []
          },
          "execution_count": 4
        }
      ]
    },
    {
      "cell_type": "markdown",
      "metadata": {
        "id": "ZCZYfytSp0DF",
        "colab_type": "text"
      },
      "source": [
        "### Initialize an RDD\n",
        "\n",
        "When using Spark to make computations, datasets are treated as lists of entries. Those lists are split into different partitions across different cores or different computers. Each list of data held in memory is a partition of the RDD. The reason why Spark is able to make computations far faster than other big data processing languages is that it allows all data to be stored __in-memory__, which allows for easy access to the data and, in turn, high-speed processing. Here is an example of how the alphabet might be split into different RDDs and held across a distributed collection of nodes:\n",
        "\n",
        "<img src =\"./images/partitions_1.png\" width =\"500\">  \n",
        "To initialize an RDD, first import `pyspark` and then create a SparkContext assigned to the variable `sc`. Use `'local[*]'` as the master."
      ]
    },
    {
      "cell_type": "code",
      "metadata": {
        "id": "LyJ9Ut4Fp0DF",
        "colab_type": "code",
        "colab": {}
      },
      "source": [
        "import pyspark\n",
        "sc = pyspark.SparkContext('local[*]')\n"
      ],
      "execution_count": 8,
      "outputs": []
    },
    {
      "cell_type": "markdown",
      "metadata": {
        "id": "HQe43ojTp0DJ",
        "colab_type": "text"
      },
      "source": [
        "Once you've created the SparkContext, you can use the `.parallelize()` method to create an RDD that will distribute the list of numbers across multiple cores. Here, create one called `rdd` with 10 partitions using `data` as the collection you are parallelizing."
      ]
    },
    {
      "cell_type": "code",
      "metadata": {
        "id": "InwFjeUup0DK",
        "colab_type": "code",
        "colab": {
          "base_uri": "https://localhost:8080/",
          "height": 34
        },
        "outputId": "e1eed58d-37e9-4d1a-a18e-7e2a50aff037"
      },
      "source": [
        "rdd = sc.parallelize(data, numSlices=10)\n",
        "print(type(rdd))\n",
        "# <class 'pyspark.rdd.RDD'>"
      ],
      "execution_count": 9,
      "outputs": [
        {
          "output_type": "stream",
          "text": [
            "<class 'pyspark.rdd.PipelinedRDD'>\n"
          ],
          "name": "stdout"
        }
      ]
    },
    {
      "cell_type": "markdown",
      "metadata": {
        "id": "2QFm8wodp0DO",
        "colab_type": "text"
      },
      "source": [
        "Determine how many partitions are being used with this RDD with the `.getNumPartitions()` method."
      ]
    },
    {
      "cell_type": "code",
      "metadata": {
        "id": "l-esj99gp0DP",
        "colab_type": "code",
        "colab": {
          "base_uri": "https://localhost:8080/",
          "height": 34
        },
        "outputId": "8ebd5e3b-5cc8-4629-c6a4-882731e17478"
      },
      "source": [
        "rdd.getNumPartitions()\n",
        "# 10"
      ],
      "execution_count": 10,
      "outputs": [
        {
          "output_type": "execute_result",
          "data": {
            "text/plain": [
              "10"
            ]
          },
          "metadata": {
            "tags": []
          },
          "execution_count": 10
        }
      ]
    },
    {
      "cell_type": "markdown",
      "metadata": {
        "id": "JWUuR-ROp0DS",
        "colab_type": "text"
      },
      "source": [
        "### Basic descriptive RDD actions\n",
        "\n",
        "Let's perform some basic operations on our RDD. In the cell below, use the methods:\n",
        "* `count`: returns the total count of items in the RDD \n",
        "* `first`: returns the first item in the RDD\n",
        "* `take`: returns the first `n` items in the RDD\n",
        "* `top`: returns the top `n` items\n",
        "* `collect`: returns everything from your RDD\n",
        "\n",
        "\n",
        "It's important to note that in a big data context, calling the collect method will often take a very long time to execute and should be handled with care!"
      ]
    },
    {
      "cell_type": "code",
      "metadata": {
        "scrolled": true,
        "id": "ESxl_0hfp0DT",
        "colab_type": "code",
        "colab": {
          "base_uri": "https://localhost:8080/",
          "height": 34
        },
        "outputId": "49f4ac15-b6e8-429d-8a0c-6b65065d786e"
      },
      "source": [
        "# count\n",
        "rdd.count()\n"
      ],
      "execution_count": 11,
      "outputs": [
        {
          "output_type": "execute_result",
          "data": {
            "text/plain": [
              "1000"
            ]
          },
          "metadata": {
            "tags": []
          },
          "execution_count": 11
        }
      ]
    },
    {
      "cell_type": "code",
      "metadata": {
        "id": "5PE9magYp0DX",
        "colab_type": "code",
        "colab": {
          "base_uri": "https://localhost:8080/",
          "height": 34
        },
        "outputId": "6618df38-1ed8-4539-c496-71863331a74e"
      },
      "source": [
        "# first\n",
        "rdd.first()"
      ],
      "execution_count": 12,
      "outputs": [
        {
          "output_type": "execute_result",
          "data": {
            "text/plain": [
              "0"
            ]
          },
          "metadata": {
            "tags": []
          },
          "execution_count": 12
        }
      ]
    },
    {
      "cell_type": "code",
      "metadata": {
        "id": "XxYBDuzFp0De",
        "colab_type": "code",
        "colab": {
          "base_uri": "https://localhost:8080/",
          "height": 34
        },
        "outputId": "a9c12ed8-c8a2-49ca-bde7-617cc48492a3"
      },
      "source": [
        "# take\n",
        "rdd.take(10)"
      ],
      "execution_count": 14,
      "outputs": [
        {
          "output_type": "execute_result",
          "data": {
            "text/plain": [
              "[0, 1, 2, 3, 4, 5, 6, 7, 8, 9]"
            ]
          },
          "metadata": {
            "tags": []
          },
          "execution_count": 14
        }
      ]
    },
    {
      "cell_type": "code",
      "metadata": {
        "id": "RCuoQSLsp0Dh",
        "colab_type": "code",
        "colab": {
          "base_uri": "https://localhost:8080/",
          "height": 34
        },
        "outputId": "590b1896-3c43-4124-fc82-77e6539459af"
      },
      "source": [
        "# top\n",
        "rdd.top(12)"
      ],
      "execution_count": 15,
      "outputs": [
        {
          "output_type": "execute_result",
          "data": {
            "text/plain": [
              "[999, 998, 997, 996, 995, 994, 993, 992, 991, 990, 989, 988]"
            ]
          },
          "metadata": {
            "tags": []
          },
          "execution_count": 15
        }
      ]
    },
    {
      "cell_type": "code",
      "metadata": {
        "scrolled": true,
        "id": "yQt9Cs2Gp0Dj",
        "colab_type": "code",
        "colab": {
          "base_uri": "https://localhost:8080/",
          "height": 1000
        },
        "outputId": "0adf105c-79a8-499b-d6df-cbbd7e1e1415"
      },
      "source": [
        "# collect\n",
        "rdd.collect()"
      ],
      "execution_count": 16,
      "outputs": [
        {
          "output_type": "execute_result",
          "data": {
            "text/plain": [
              "[0,\n",
              " 1,\n",
              " 2,\n",
              " 3,\n",
              " 4,\n",
              " 5,\n",
              " 6,\n",
              " 7,\n",
              " 8,\n",
              " 9,\n",
              " 10,\n",
              " 11,\n",
              " 12,\n",
              " 13,\n",
              " 14,\n",
              " 15,\n",
              " 16,\n",
              " 17,\n",
              " 18,\n",
              " 19,\n",
              " 20,\n",
              " 21,\n",
              " 22,\n",
              " 23,\n",
              " 24,\n",
              " 25,\n",
              " 26,\n",
              " 27,\n",
              " 28,\n",
              " 29,\n",
              " 30,\n",
              " 31,\n",
              " 32,\n",
              " 33,\n",
              " 34,\n",
              " 35,\n",
              " 36,\n",
              " 37,\n",
              " 38,\n",
              " 39,\n",
              " 40,\n",
              " 41,\n",
              " 42,\n",
              " 43,\n",
              " 44,\n",
              " 45,\n",
              " 46,\n",
              " 47,\n",
              " 48,\n",
              " 49,\n",
              " 50,\n",
              " 51,\n",
              " 52,\n",
              " 53,\n",
              " 54,\n",
              " 55,\n",
              " 56,\n",
              " 57,\n",
              " 58,\n",
              " 59,\n",
              " 60,\n",
              " 61,\n",
              " 62,\n",
              " 63,\n",
              " 64,\n",
              " 65,\n",
              " 66,\n",
              " 67,\n",
              " 68,\n",
              " 69,\n",
              " 70,\n",
              " 71,\n",
              " 72,\n",
              " 73,\n",
              " 74,\n",
              " 75,\n",
              " 76,\n",
              " 77,\n",
              " 78,\n",
              " 79,\n",
              " 80,\n",
              " 81,\n",
              " 82,\n",
              " 83,\n",
              " 84,\n",
              " 85,\n",
              " 86,\n",
              " 87,\n",
              " 88,\n",
              " 89,\n",
              " 90,\n",
              " 91,\n",
              " 92,\n",
              " 93,\n",
              " 94,\n",
              " 95,\n",
              " 96,\n",
              " 97,\n",
              " 98,\n",
              " 99,\n",
              " 100,\n",
              " 101,\n",
              " 102,\n",
              " 103,\n",
              " 104,\n",
              " 105,\n",
              " 106,\n",
              " 107,\n",
              " 108,\n",
              " 109,\n",
              " 110,\n",
              " 111,\n",
              " 112,\n",
              " 113,\n",
              " 114,\n",
              " 115,\n",
              " 116,\n",
              " 117,\n",
              " 118,\n",
              " 119,\n",
              " 120,\n",
              " 121,\n",
              " 122,\n",
              " 123,\n",
              " 124,\n",
              " 125,\n",
              " 126,\n",
              " 127,\n",
              " 128,\n",
              " 129,\n",
              " 130,\n",
              " 131,\n",
              " 132,\n",
              " 133,\n",
              " 134,\n",
              " 135,\n",
              " 136,\n",
              " 137,\n",
              " 138,\n",
              " 139,\n",
              " 140,\n",
              " 141,\n",
              " 142,\n",
              " 143,\n",
              " 144,\n",
              " 145,\n",
              " 146,\n",
              " 147,\n",
              " 148,\n",
              " 149,\n",
              " 150,\n",
              " 151,\n",
              " 152,\n",
              " 153,\n",
              " 154,\n",
              " 155,\n",
              " 156,\n",
              " 157,\n",
              " 158,\n",
              " 159,\n",
              " 160,\n",
              " 161,\n",
              " 162,\n",
              " 163,\n",
              " 164,\n",
              " 165,\n",
              " 166,\n",
              " 167,\n",
              " 168,\n",
              " 169,\n",
              " 170,\n",
              " 171,\n",
              " 172,\n",
              " 173,\n",
              " 174,\n",
              " 175,\n",
              " 176,\n",
              " 177,\n",
              " 178,\n",
              " 179,\n",
              " 180,\n",
              " 181,\n",
              " 182,\n",
              " 183,\n",
              " 184,\n",
              " 185,\n",
              " 186,\n",
              " 187,\n",
              " 188,\n",
              " 189,\n",
              " 190,\n",
              " 191,\n",
              " 192,\n",
              " 193,\n",
              " 194,\n",
              " 195,\n",
              " 196,\n",
              " 197,\n",
              " 198,\n",
              " 199,\n",
              " 200,\n",
              " 201,\n",
              " 202,\n",
              " 203,\n",
              " 204,\n",
              " 205,\n",
              " 206,\n",
              " 207,\n",
              " 208,\n",
              " 209,\n",
              " 210,\n",
              " 211,\n",
              " 212,\n",
              " 213,\n",
              " 214,\n",
              " 215,\n",
              " 216,\n",
              " 217,\n",
              " 218,\n",
              " 219,\n",
              " 220,\n",
              " 221,\n",
              " 222,\n",
              " 223,\n",
              " 224,\n",
              " 225,\n",
              " 226,\n",
              " 227,\n",
              " 228,\n",
              " 229,\n",
              " 230,\n",
              " 231,\n",
              " 232,\n",
              " 233,\n",
              " 234,\n",
              " 235,\n",
              " 236,\n",
              " 237,\n",
              " 238,\n",
              " 239,\n",
              " 240,\n",
              " 241,\n",
              " 242,\n",
              " 243,\n",
              " 244,\n",
              " 245,\n",
              " 246,\n",
              " 247,\n",
              " 248,\n",
              " 249,\n",
              " 250,\n",
              " 251,\n",
              " 252,\n",
              " 253,\n",
              " 254,\n",
              " 255,\n",
              " 256,\n",
              " 257,\n",
              " 258,\n",
              " 259,\n",
              " 260,\n",
              " 261,\n",
              " 262,\n",
              " 263,\n",
              " 264,\n",
              " 265,\n",
              " 266,\n",
              " 267,\n",
              " 268,\n",
              " 269,\n",
              " 270,\n",
              " 271,\n",
              " 272,\n",
              " 273,\n",
              " 274,\n",
              " 275,\n",
              " 276,\n",
              " 277,\n",
              " 278,\n",
              " 279,\n",
              " 280,\n",
              " 281,\n",
              " 282,\n",
              " 283,\n",
              " 284,\n",
              " 285,\n",
              " 286,\n",
              " 287,\n",
              " 288,\n",
              " 289,\n",
              " 290,\n",
              " 291,\n",
              " 292,\n",
              " 293,\n",
              " 294,\n",
              " 295,\n",
              " 296,\n",
              " 297,\n",
              " 298,\n",
              " 299,\n",
              " 300,\n",
              " 301,\n",
              " 302,\n",
              " 303,\n",
              " 304,\n",
              " 305,\n",
              " 306,\n",
              " 307,\n",
              " 308,\n",
              " 309,\n",
              " 310,\n",
              " 311,\n",
              " 312,\n",
              " 313,\n",
              " 314,\n",
              " 315,\n",
              " 316,\n",
              " 317,\n",
              " 318,\n",
              " 319,\n",
              " 320,\n",
              " 321,\n",
              " 322,\n",
              " 323,\n",
              " 324,\n",
              " 325,\n",
              " 326,\n",
              " 327,\n",
              " 328,\n",
              " 329,\n",
              " 330,\n",
              " 331,\n",
              " 332,\n",
              " 333,\n",
              " 334,\n",
              " 335,\n",
              " 336,\n",
              " 337,\n",
              " 338,\n",
              " 339,\n",
              " 340,\n",
              " 341,\n",
              " 342,\n",
              " 343,\n",
              " 344,\n",
              " 345,\n",
              " 346,\n",
              " 347,\n",
              " 348,\n",
              " 349,\n",
              " 350,\n",
              " 351,\n",
              " 352,\n",
              " 353,\n",
              " 354,\n",
              " 355,\n",
              " 356,\n",
              " 357,\n",
              " 358,\n",
              " 359,\n",
              " 360,\n",
              " 361,\n",
              " 362,\n",
              " 363,\n",
              " 364,\n",
              " 365,\n",
              " 366,\n",
              " 367,\n",
              " 368,\n",
              " 369,\n",
              " 370,\n",
              " 371,\n",
              " 372,\n",
              " 373,\n",
              " 374,\n",
              " 375,\n",
              " 376,\n",
              " 377,\n",
              " 378,\n",
              " 379,\n",
              " 380,\n",
              " 381,\n",
              " 382,\n",
              " 383,\n",
              " 384,\n",
              " 385,\n",
              " 386,\n",
              " 387,\n",
              " 388,\n",
              " 389,\n",
              " 390,\n",
              " 391,\n",
              " 392,\n",
              " 393,\n",
              " 394,\n",
              " 395,\n",
              " 396,\n",
              " 397,\n",
              " 398,\n",
              " 399,\n",
              " 400,\n",
              " 401,\n",
              " 402,\n",
              " 403,\n",
              " 404,\n",
              " 405,\n",
              " 406,\n",
              " 407,\n",
              " 408,\n",
              " 409,\n",
              " 410,\n",
              " 411,\n",
              " 412,\n",
              " 413,\n",
              " 414,\n",
              " 415,\n",
              " 416,\n",
              " 417,\n",
              " 418,\n",
              " 419,\n",
              " 420,\n",
              " 421,\n",
              " 422,\n",
              " 423,\n",
              " 424,\n",
              " 425,\n",
              " 426,\n",
              " 427,\n",
              " 428,\n",
              " 429,\n",
              " 430,\n",
              " 431,\n",
              " 432,\n",
              " 433,\n",
              " 434,\n",
              " 435,\n",
              " 436,\n",
              " 437,\n",
              " 438,\n",
              " 439,\n",
              " 440,\n",
              " 441,\n",
              " 442,\n",
              " 443,\n",
              " 444,\n",
              " 445,\n",
              " 446,\n",
              " 447,\n",
              " 448,\n",
              " 449,\n",
              " 450,\n",
              " 451,\n",
              " 452,\n",
              " 453,\n",
              " 454,\n",
              " 455,\n",
              " 456,\n",
              " 457,\n",
              " 458,\n",
              " 459,\n",
              " 460,\n",
              " 461,\n",
              " 462,\n",
              " 463,\n",
              " 464,\n",
              " 465,\n",
              " 466,\n",
              " 467,\n",
              " 468,\n",
              " 469,\n",
              " 470,\n",
              " 471,\n",
              " 472,\n",
              " 473,\n",
              " 474,\n",
              " 475,\n",
              " 476,\n",
              " 477,\n",
              " 478,\n",
              " 479,\n",
              " 480,\n",
              " 481,\n",
              " 482,\n",
              " 483,\n",
              " 484,\n",
              " 485,\n",
              " 486,\n",
              " 487,\n",
              " 488,\n",
              " 489,\n",
              " 490,\n",
              " 491,\n",
              " 492,\n",
              " 493,\n",
              " 494,\n",
              " 495,\n",
              " 496,\n",
              " 497,\n",
              " 498,\n",
              " 499,\n",
              " 500,\n",
              " 501,\n",
              " 502,\n",
              " 503,\n",
              " 504,\n",
              " 505,\n",
              " 506,\n",
              " 507,\n",
              " 508,\n",
              " 509,\n",
              " 510,\n",
              " 511,\n",
              " 512,\n",
              " 513,\n",
              " 514,\n",
              " 515,\n",
              " 516,\n",
              " 517,\n",
              " 518,\n",
              " 519,\n",
              " 520,\n",
              " 521,\n",
              " 522,\n",
              " 523,\n",
              " 524,\n",
              " 525,\n",
              " 526,\n",
              " 527,\n",
              " 528,\n",
              " 529,\n",
              " 530,\n",
              " 531,\n",
              " 532,\n",
              " 533,\n",
              " 534,\n",
              " 535,\n",
              " 536,\n",
              " 537,\n",
              " 538,\n",
              " 539,\n",
              " 540,\n",
              " 541,\n",
              " 542,\n",
              " 543,\n",
              " 544,\n",
              " 545,\n",
              " 546,\n",
              " 547,\n",
              " 548,\n",
              " 549,\n",
              " 550,\n",
              " 551,\n",
              " 552,\n",
              " 553,\n",
              " 554,\n",
              " 555,\n",
              " 556,\n",
              " 557,\n",
              " 558,\n",
              " 559,\n",
              " 560,\n",
              " 561,\n",
              " 562,\n",
              " 563,\n",
              " 564,\n",
              " 565,\n",
              " 566,\n",
              " 567,\n",
              " 568,\n",
              " 569,\n",
              " 570,\n",
              " 571,\n",
              " 572,\n",
              " 573,\n",
              " 574,\n",
              " 575,\n",
              " 576,\n",
              " 577,\n",
              " 578,\n",
              " 579,\n",
              " 580,\n",
              " 581,\n",
              " 582,\n",
              " 583,\n",
              " 584,\n",
              " 585,\n",
              " 586,\n",
              " 587,\n",
              " 588,\n",
              " 589,\n",
              " 590,\n",
              " 591,\n",
              " 592,\n",
              " 593,\n",
              " 594,\n",
              " 595,\n",
              " 596,\n",
              " 597,\n",
              " 598,\n",
              " 599,\n",
              " 600,\n",
              " 601,\n",
              " 602,\n",
              " 603,\n",
              " 604,\n",
              " 605,\n",
              " 606,\n",
              " 607,\n",
              " 608,\n",
              " 609,\n",
              " 610,\n",
              " 611,\n",
              " 612,\n",
              " 613,\n",
              " 614,\n",
              " 615,\n",
              " 616,\n",
              " 617,\n",
              " 618,\n",
              " 619,\n",
              " 620,\n",
              " 621,\n",
              " 622,\n",
              " 623,\n",
              " 624,\n",
              " 625,\n",
              " 626,\n",
              " 627,\n",
              " 628,\n",
              " 629,\n",
              " 630,\n",
              " 631,\n",
              " 632,\n",
              " 633,\n",
              " 634,\n",
              " 635,\n",
              " 636,\n",
              " 637,\n",
              " 638,\n",
              " 639,\n",
              " 640,\n",
              " 641,\n",
              " 642,\n",
              " 643,\n",
              " 644,\n",
              " 645,\n",
              " 646,\n",
              " 647,\n",
              " 648,\n",
              " 649,\n",
              " 650,\n",
              " 651,\n",
              " 652,\n",
              " 653,\n",
              " 654,\n",
              " 655,\n",
              " 656,\n",
              " 657,\n",
              " 658,\n",
              " 659,\n",
              " 660,\n",
              " 661,\n",
              " 662,\n",
              " 663,\n",
              " 664,\n",
              " 665,\n",
              " 666,\n",
              " 667,\n",
              " 668,\n",
              " 669,\n",
              " 670,\n",
              " 671,\n",
              " 672,\n",
              " 673,\n",
              " 674,\n",
              " 675,\n",
              " 676,\n",
              " 677,\n",
              " 678,\n",
              " 679,\n",
              " 680,\n",
              " 681,\n",
              " 682,\n",
              " 683,\n",
              " 684,\n",
              " 685,\n",
              " 686,\n",
              " 687,\n",
              " 688,\n",
              " 689,\n",
              " 690,\n",
              " 691,\n",
              " 692,\n",
              " 693,\n",
              " 694,\n",
              " 695,\n",
              " 696,\n",
              " 697,\n",
              " 698,\n",
              " 699,\n",
              " 700,\n",
              " 701,\n",
              " 702,\n",
              " 703,\n",
              " 704,\n",
              " 705,\n",
              " 706,\n",
              " 707,\n",
              " 708,\n",
              " 709,\n",
              " 710,\n",
              " 711,\n",
              " 712,\n",
              " 713,\n",
              " 714,\n",
              " 715,\n",
              " 716,\n",
              " 717,\n",
              " 718,\n",
              " 719,\n",
              " 720,\n",
              " 721,\n",
              " 722,\n",
              " 723,\n",
              " 724,\n",
              " 725,\n",
              " 726,\n",
              " 727,\n",
              " 728,\n",
              " 729,\n",
              " 730,\n",
              " 731,\n",
              " 732,\n",
              " 733,\n",
              " 734,\n",
              " 735,\n",
              " 736,\n",
              " 737,\n",
              " 738,\n",
              " 739,\n",
              " 740,\n",
              " 741,\n",
              " 742,\n",
              " 743,\n",
              " 744,\n",
              " 745,\n",
              " 746,\n",
              " 747,\n",
              " 748,\n",
              " 749,\n",
              " 750,\n",
              " 751,\n",
              " 752,\n",
              " 753,\n",
              " 754,\n",
              " 755,\n",
              " 756,\n",
              " 757,\n",
              " 758,\n",
              " 759,\n",
              " 760,\n",
              " 761,\n",
              " 762,\n",
              " 763,\n",
              " 764,\n",
              " 765,\n",
              " 766,\n",
              " 767,\n",
              " 768,\n",
              " 769,\n",
              " 770,\n",
              " 771,\n",
              " 772,\n",
              " 773,\n",
              " 774,\n",
              " 775,\n",
              " 776,\n",
              " 777,\n",
              " 778,\n",
              " 779,\n",
              " 780,\n",
              " 781,\n",
              " 782,\n",
              " 783,\n",
              " 784,\n",
              " 785,\n",
              " 786,\n",
              " 787,\n",
              " 788,\n",
              " 789,\n",
              " 790,\n",
              " 791,\n",
              " 792,\n",
              " 793,\n",
              " 794,\n",
              " 795,\n",
              " 796,\n",
              " 797,\n",
              " 798,\n",
              " 799,\n",
              " 800,\n",
              " 801,\n",
              " 802,\n",
              " 803,\n",
              " 804,\n",
              " 805,\n",
              " 806,\n",
              " 807,\n",
              " 808,\n",
              " 809,\n",
              " 810,\n",
              " 811,\n",
              " 812,\n",
              " 813,\n",
              " 814,\n",
              " 815,\n",
              " 816,\n",
              " 817,\n",
              " 818,\n",
              " 819,\n",
              " 820,\n",
              " 821,\n",
              " 822,\n",
              " 823,\n",
              " 824,\n",
              " 825,\n",
              " 826,\n",
              " 827,\n",
              " 828,\n",
              " 829,\n",
              " 830,\n",
              " 831,\n",
              " 832,\n",
              " 833,\n",
              " 834,\n",
              " 835,\n",
              " 836,\n",
              " 837,\n",
              " 838,\n",
              " 839,\n",
              " 840,\n",
              " 841,\n",
              " 842,\n",
              " 843,\n",
              " 844,\n",
              " 845,\n",
              " 846,\n",
              " 847,\n",
              " 848,\n",
              " 849,\n",
              " 850,\n",
              " 851,\n",
              " 852,\n",
              " 853,\n",
              " 854,\n",
              " 855,\n",
              " 856,\n",
              " 857,\n",
              " 858,\n",
              " 859,\n",
              " 860,\n",
              " 861,\n",
              " 862,\n",
              " 863,\n",
              " 864,\n",
              " 865,\n",
              " 866,\n",
              " 867,\n",
              " 868,\n",
              " 869,\n",
              " 870,\n",
              " 871,\n",
              " 872,\n",
              " 873,\n",
              " 874,\n",
              " 875,\n",
              " 876,\n",
              " 877,\n",
              " 878,\n",
              " 879,\n",
              " 880,\n",
              " 881,\n",
              " 882,\n",
              " 883,\n",
              " 884,\n",
              " 885,\n",
              " 886,\n",
              " 887,\n",
              " 888,\n",
              " 889,\n",
              " 890,\n",
              " 891,\n",
              " 892,\n",
              " 893,\n",
              " 894,\n",
              " 895,\n",
              " 896,\n",
              " 897,\n",
              " 898,\n",
              " 899,\n",
              " 900,\n",
              " 901,\n",
              " 902,\n",
              " 903,\n",
              " 904,\n",
              " 905,\n",
              " 906,\n",
              " 907,\n",
              " 908,\n",
              " 909,\n",
              " 910,\n",
              " 911,\n",
              " 912,\n",
              " 913,\n",
              " 914,\n",
              " 915,\n",
              " 916,\n",
              " 917,\n",
              " 918,\n",
              " 919,\n",
              " 920,\n",
              " 921,\n",
              " 922,\n",
              " 923,\n",
              " 924,\n",
              " 925,\n",
              " 926,\n",
              " 927,\n",
              " 928,\n",
              " 929,\n",
              " 930,\n",
              " 931,\n",
              " 932,\n",
              " 933,\n",
              " 934,\n",
              " 935,\n",
              " 936,\n",
              " 937,\n",
              " 938,\n",
              " 939,\n",
              " 940,\n",
              " 941,\n",
              " 942,\n",
              " 943,\n",
              " 944,\n",
              " 945,\n",
              " 946,\n",
              " 947,\n",
              " 948,\n",
              " 949,\n",
              " 950,\n",
              " 951,\n",
              " 952,\n",
              " 953,\n",
              " 954,\n",
              " 955,\n",
              " 956,\n",
              " 957,\n",
              " 958,\n",
              " 959,\n",
              " 960,\n",
              " 961,\n",
              " 962,\n",
              " 963,\n",
              " 964,\n",
              " 965,\n",
              " 966,\n",
              " 967,\n",
              " 968,\n",
              " 969,\n",
              " 970,\n",
              " 971,\n",
              " 972,\n",
              " 973,\n",
              " 974,\n",
              " 975,\n",
              " 976,\n",
              " 977,\n",
              " 978,\n",
              " 979,\n",
              " 980,\n",
              " 981,\n",
              " 982,\n",
              " 983,\n",
              " 984,\n",
              " 985,\n",
              " 986,\n",
              " 987,\n",
              " 988,\n",
              " 989,\n",
              " 990,\n",
              " 991,\n",
              " 992,\n",
              " 993,\n",
              " 994,\n",
              " 995,\n",
              " 996,\n",
              " 997,\n",
              " 998,\n",
              " 999]"
            ]
          },
          "metadata": {
            "tags": []
          },
          "execution_count": 16
        }
      ]
    },
    {
      "cell_type": "markdown",
      "metadata": {
        "id": "xUDlJ6PVp0Dn",
        "colab_type": "text"
      },
      "source": [
        "## Map functions\n",
        "\n",
        "Now that you've been working a little bit with RDDs, let's make this a little more interesting. Imagine you're running a hot new e-commerce startup called BuyStuff, and you're trying to track of how much it charges customers from each item sold. In the next cell, we're going to create simulated data by multiplying the values 1-1000 with a random number from 0-1."
      ]
    },
    {
      "cell_type": "code",
      "metadata": {
        "id": "t66CWv-Tp0Do",
        "colab_type": "code",
        "colab": {
          "base_uri": "https://localhost:8080/",
          "height": 1000
        },
        "outputId": "8448ca35-ecca-4da4-945f-1094136a7d7d"
      },
      "source": [
        "import random\n",
        "import numpy as np\n",
        "\n",
        "nums = np.array(range(1, 1001))\n",
        "sales_figures = nums * np.random.rand(1000)\n",
        "sales_figures"
      ],
      "execution_count": 17,
      "outputs": [
        {
          "output_type": "execute_result",
          "data": {
            "text/plain": [
              "array([7.55023340e-01, 1.01914272e+00, 1.43333696e+00, 1.59656510e+00,\n",
              "       8.31879512e-01, 4.52723138e+00, 2.65408421e+00, 5.54055043e+00,\n",
              "       3.11130895e+00, 1.78437951e+00, 6.08013753e+00, 4.03092763e+00,\n",
              "       1.10291941e+01, 3.50405708e+00, 8.65279353e+00, 1.33862601e+01,\n",
              "       1.28910461e+01, 5.19049764e+00, 1.46882996e+01, 6.21295569e+00,\n",
              "       2.65633227e+00, 1.92792466e+01, 7.36283507e+00, 3.70872397e+00,\n",
              "       7.38998836e+00, 9.15960518e+00, 1.57594072e+01, 1.78544186e+01,\n",
              "       2.34782963e+00, 1.51129458e+01, 1.80681333e+01, 3.36914791e+00,\n",
              "       2.17505479e+01, 7.91353145e+00, 2.63194018e+01, 2.34275293e+01,\n",
              "       9.86211004e+00, 3.31294055e+00, 3.53615251e+01, 7.88280977e+00,\n",
              "       1.16902462e-01, 3.03495688e+01, 6.14466462e+00, 3.57715429e+01,\n",
              "       6.41907873e+00, 1.02347820e+01, 3.59397570e+01, 5.63478942e+00,\n",
              "       3.50783803e+01, 1.27931554e+01, 1.55593796e+01, 2.99009180e+01,\n",
              "       1.75070287e+01, 2.71491801e+01, 4.45689704e+01, 5.44279541e+01,\n",
              "       5.65504822e+01, 5.46807690e+01, 2.80702088e+00, 4.90116441e+01,\n",
              "       5.23546985e+01, 3.78641363e+00, 5.00743832e+01, 8.57033283e-01,\n",
              "       6.49123386e+01, 3.53375177e+01, 3.50089788e+01, 5.70642506e+01,\n",
              "       3.29063658e+01, 3.17145937e+01, 4.45402652e+01, 6.49260211e+01,\n",
              "       1.40690315e+01, 2.07871246e+01, 7.05048790e+01, 3.91484891e+01,\n",
              "       3.76664119e+01, 3.69338569e+01, 3.22923220e+01, 6.41617315e+01,\n",
              "       4.57929855e+01, 2.90609332e+00, 2.52271405e+01, 2.18678532e+01,\n",
              "       1.62080632e+01, 7.37687757e+01, 7.84912903e+01, 2.34449362e+00,\n",
              "       7.72692341e+01, 7.26011306e+01, 7.63894618e+01, 1.33397724e+01,\n",
              "       5.35545081e+00, 8.06997845e+01, 4.39415892e+01, 8.50360239e+01,\n",
              "       2.72495850e+01, 1.72984874e+01, 2.22385807e+01, 6.50458072e+01,\n",
              "       2.50149833e+01, 8.74609847e+01, 7.10686860e+01, 4.81965854e+01,\n",
              "       1.04839106e+02, 3.07208099e+00, 5.40615722e+01, 1.70781357e+01,\n",
              "       4.72325051e+01, 9.28589136e+01, 8.05577783e+01, 3.76224218e+01,\n",
              "       3.83370460e+01, 8.94938259e+01, 6.64107255e+00, 3.82199028e+01,\n",
              "       7.40791412e+01, 2.34166303e+01, 2.94145957e+01, 9.99073634e+01,\n",
              "       7.14310444e+01, 7.24703004e+01, 9.20033997e+01, 3.08411781e+01,\n",
              "       3.43695861e+01, 5.15683335e+01, 1.26304143e+02, 1.18305054e+02,\n",
              "       4.63754753e+01, 3.22028716e+01, 9.33777513e+01, 1.96172063e+00,\n",
              "       4.88194202e+01, 1.28756879e+02, 6.43118230e+01, 3.30041780e+01,\n",
              "       1.08321229e+02, 1.62270408e+01, 9.48820940e+01, 1.03875708e+02,\n",
              "       1.07974050e+02, 1.09093833e+02, 4.20938819e+01, 5.55202599e+01,\n",
              "       8.10018902e+01, 1.13864573e+02, 4.94701781e+01, 4.76674661e+00,\n",
              "       5.23490580e+01, 6.76755332e+01, 7.16473817e+01, 1.46959006e+02,\n",
              "       4.58379405e+01, 1.04348438e+02, 1.34194995e+02, 1.24907626e+02,\n",
              "       3.52878007e+01, 1.17949378e+02, 5.93797917e+00, 5.29314344e+00,\n",
              "       9.49142709e+01, 4.08252743e+01, 7.35575203e+00, 1.02773327e+02,\n",
              "       4.62438921e+01, 1.05565042e+02, 9.39421708e+01, 9.75852432e+01,\n",
              "       9.28397670e+00, 1.65317304e+01, 1.27342058e+02, 1.31138191e+02,\n",
              "       1.64854240e+02, 1.87534226e+01, 1.32043748e+01, 1.29136969e+02,\n",
              "       8.20778980e+01, 1.43355001e+02, 8.30850465e+01, 1.30153317e+02,\n",
              "       1.26708849e+02, 1.57050979e+02, 1.11233740e+02, 2.72296929e+01,\n",
              "       9.50807601e+01, 5.43265523e+01, 1.14898094e+02, 1.09616442e+01,\n",
              "       3.16035936e+01, 2.79105626e+01, 8.45497180e+01, 1.28664724e+02,\n",
              "       1.14360760e+02, 3.48249765e+01, 2.46050880e+01, 2.30274621e+01,\n",
              "       1.95771495e+01, 4.95967484e+01, 1.68664561e+01, 1.03233794e+01,\n",
              "       8.55421544e+01, 1.26929431e+02, 1.23368004e+02, 1.74098083e+02,\n",
              "       1.21054917e+02, 1.64378120e+02, 1.73829922e+02, 1.27026658e+02,\n",
              "       4.57554998e+01, 6.37666740e+01, 1.12886440e+02, 1.03281908e+02,\n",
              "       1.82129164e+01, 1.27563171e+02, 1.58464777e+02, 1.83838773e+02,\n",
              "       1.17709606e+02, 5.80288804e+01, 9.15855258e+01, 1.95749276e+02,\n",
              "       1.47077884e+02, 1.65994439e+02, 5.33728969e+01, 2.07857643e+02,\n",
              "       5.31535476e+01, 7.42107393e+01, 1.37709544e+02, 1.27750539e+02,\n",
              "       2.03132673e+01, 2.78700952e+01, 1.67472266e+02, 1.44115487e+02,\n",
              "       1.14611011e+02, 1.55376945e+01, 2.27748999e+02, 5.61468451e+01,\n",
              "       1.99627140e+01, 1.31259039e+02, 1.02666860e+01, 1.67285300e+02,\n",
              "       1.20056022e+02, 2.30962379e+02, 6.90233673e+00, 9.99711861e+01,\n",
              "       1.19803891e+02, 2.20757183e+02, 6.11264910e+01, 5.07866673e+00,\n",
              "       2.08095489e+02, 1.47742782e+02, 6.44015683e+00, 1.74410139e+02,\n",
              "       2.19873007e+01, 1.79857452e+02, 1.23204964e+02, 1.07001259e+02,\n",
              "       3.64508031e+01, 7.56015788e+01, 2.23210963e+02, 6.72849456e+01,\n",
              "       2.27441067e+02, 2.14043430e+01, 3.13896430e+01, 1.52802154e+02,\n",
              "       1.46493871e+02, 9.76779325e+01, 2.46371008e+02, 6.98444134e+01,\n",
              "       3.60157425e+01, 2.66846541e+02, 1.26386123e+02, 7.94547880e+01,\n",
              "       8.35642165e+01, 1.59791370e+02, 2.19000602e+02, 8.20289821e+01,\n",
              "       1.04689272e+02, 5.40756285e+01, 1.46134735e+00, 1.48146393e+02,\n",
              "       2.66855712e+02, 1.61489055e+02, 7.52307268e+01, 1.30785000e+02,\n",
              "       9.60616824e+01, 1.68305563e+02, 1.05705228e+02, 2.07584963e+02,\n",
              "       1.81940353e+02, 2.37110914e+02, 2.20391535e+02, 7.09547094e+00,\n",
              "       6.86541916e+01, 6.36996185e+01, 2.43279463e+02, 2.14696286e+02,\n",
              "       6.12760197e+01, 1.76498920e+02, 2.14901107e+02, 2.50062458e+01,\n",
              "       1.09167439e+02, 8.08016730e+01, 2.89307881e+02, 7.80914476e+01,\n",
              "       9.79541725e+01, 1.25169878e+02, 7.23671736e+01, 2.99085374e+02,\n",
              "       2.68094483e+02, 5.61083012e+01, 1.22637009e+02, 1.36377463e+02,\n",
              "       1.22767534e+02, 2.00649713e+02, 2.50326021e+02, 2.28336771e+02,\n",
              "       2.88750566e+02, 1.27346020e+02, 2.44539347e+02, 9.40572367e+00,\n",
              "       9.57218966e+01, 1.30159779e+02, 2.22479678e+01, 7.95873719e+01,\n",
              "       4.77666806e+00, 1.87849661e+02, 2.28182058e+02, 1.41529886e+02,\n",
              "       1.89219016e+02, 2.72547116e+02, 2.26323625e+02, 1.57474644e+02,\n",
              "       1.54553014e+02, 1.03184591e+01, 2.17223966e+02, 2.15809196e+02,\n",
              "       3.06494013e+02, 2.33860135e+02, 3.36369863e+02, 1.29261245e+02,\n",
              "       2.82780002e+02, 2.09437307e+02, 7.48031441e+01, 4.11865677e+01,\n",
              "       3.27012205e+02, 8.35442684e+01, 3.32981023e+02, 3.02436656e+02,\n",
              "       2.58338535e+02, 2.57857249e+02, 2.92860259e+02, 2.79705705e+02,\n",
              "       1.92052538e+02, 4.64150959e+01, 5.92896770e+01, 1.37702074e+02,\n",
              "       2.76821630e+02, 1.02006950e+02, 1.29337957e+02, 6.48066143e+01,\n",
              "       1.23882191e+02, 3.06466650e+01, 3.07534840e+02, 1.48811008e+01,\n",
              "       2.27213533e+02, 2.43026875e+02, 3.03887587e+02, 1.80897757e+02,\n",
              "       2.18582965e+02, 3.67877124e+02, 2.51235631e+02, 1.47435493e+02,\n",
              "       2.46485733e+02, 2.94320636e+02, 3.49140385e+01, 2.39053991e+02,\n",
              "       6.09665725e+00, 2.43847104e+02, 2.64637661e+02, 3.50338987e+02,\n",
              "       3.75777207e+02, 1.00837923e+02, 3.61901840e+02, 2.90204566e+02,\n",
              "       3.05681868e+02, 3.97040831e+01, 3.34461888e+02, 3.21905238e+02,\n",
              "       3.34113082e+02, 3.34629694e+01, 3.58530147e+02, 3.56490887e+02,\n",
              "       5.87698322e+01, 2.75067152e+02, 3.67247091e+02, 7.07086049e+00,\n",
              "       2.52908589e+02, 3.96130543e+02, 2.91454013e+02, 1.98204072e+02,\n",
              "       3.56042244e+02, 2.14401437e+02, 2.98462197e+02, 4.73491505e+01,\n",
              "       3.79963981e+02, 1.73784984e+01, 1.51887349e+02, 5.78618435e+00,\n",
              "       2.06552738e+02, 5.33123348e+01, 2.77735011e+02, 2.68483702e+02,\n",
              "       3.53277028e+02, 7.64250122e+01, 3.15137088e+02, 4.03615677e+02,\n",
              "       3.86111736e+02, 1.39009582e+02, 1.78066636e+02, 3.78532108e+01,\n",
              "       1.93805355e+02, 1.23387658e+01, 4.49179323e+01, 2.10088651e+02,\n",
              "       4.16752315e+02, 3.68213395e+02, 3.25802779e+02, 2.73142325e+02,\n",
              "       1.57668143e+01, 7.84562735e+01, 2.24746345e+02, 6.80473688e+01,\n",
              "       6.44254992e+01, 4.00961310e+02, 4.32518639e+02, 9.32719680e-01,\n",
              "       1.45348826e+02, 3.87867297e+02, 6.67414163e+01, 6.07933185e+01,\n",
              "       2.84330563e+02, 2.00300181e+02, 1.07281269e+02, 3.37797702e+01,\n",
              "       2.66047779e+02, 3.72722428e+02, 3.94587098e+01, 7.65900445e+01,\n",
              "       4.30332068e+02, 1.76571506e+02, 9.90761146e+01, 4.34573161e+02,\n",
              "       3.35787678e+02, 2.22758086e+02, 1.55907339e+02, 4.06391349e+02,\n",
              "       1.01069634e+02, 3.27760654e+02, 4.37891301e+02, 2.37416670e+02,\n",
              "       2.21325437e+02, 7.22839201e+01, 3.65359535e+02, 1.51278710e+02,\n",
              "       1.64889008e+02, 3.71015402e+02, 3.70085452e+02, 3.39661569e+02,\n",
              "       1.51665187e+02, 4.43418384e+02, 2.42839741e+02, 2.22481324e+01,\n",
              "       2.31225037e+02, 4.14284369e+02, 2.53022575e+02, 3.31832357e+02,\n",
              "       2.83402120e+02, 3.08788605e+02, 4.31307724e+01, 3.55484906e+02,\n",
              "       3.91845281e+02, 2.73286712e+02, 4.42019926e+02, 4.19921491e+02,\n",
              "       3.89609412e+02, 1.67916235e+02, 2.59351689e+02, 6.98899736e+01,\n",
              "       1.85190133e+02, 4.71955216e+01, 1.18169341e+02, 3.28952928e+02,\n",
              "       4.91579055e+02, 5.59193358e+01, 7.86292657e+01, 2.61817091e+02,\n",
              "       1.77045020e+02, 2.27524131e+02, 4.45495802e+02, 5.66143008e+01,\n",
              "       9.62453310e+01, 7.27383400e+01, 4.70309049e+02, 4.51002707e+02,\n",
              "       2.50874509e+01, 3.90472050e+02, 4.87480855e+02, 3.39838703e+01,\n",
              "       3.35718716e+02, 2.86106929e+02, 2.13510325e+02, 8.47900136e+00,\n",
              "       4.18605196e+02, 4.52369868e+01, 4.31149573e+02, 1.30665382e+02,\n",
              "       1.38277767e+02, 2.21010481e+02, 2.44121023e+02, 4.86659713e+02,\n",
              "       3.46703097e+02, 1.25324279e+02, 1.59665844e+01, 2.48123355e+01,\n",
              "       3.54336182e+02, 2.53211896e+02, 4.82980023e+02, 1.91995058e+01,\n",
              "       1.91346156e+02, 2.41953199e+02, 3.83608862e+02, 1.49428369e+02,\n",
              "       4.70020038e+02, 4.20261434e+02, 3.65645657e+02, 3.81650769e+02,\n",
              "       5.25036352e+02, 2.31094622e+02, 2.64574204e+02, 1.86445489e+02,\n",
              "       2.40724700e+02, 1.47806220e+02, 5.02259200e+02, 1.03409358e+02,\n",
              "       4.79887347e+02, 3.10239540e+02, 2.50621914e+02, 1.32391661e+02,\n",
              "       1.89658812e+02, 5.24080140e+02, 4.87146631e+02, 9.01756452e+01,\n",
              "       4.30148488e+02, 3.41725811e+02, 3.48560978e+02, 4.32547204e+02,\n",
              "       4.71493663e+02, 1.15036148e+02, 2.88240618e+02, 4.34898910e+02,\n",
              "       5.09470924e+02, 5.11356740e+02, 2.41415410e+02, 2.32400213e+02,\n",
              "       3.25164782e+02, 3.32295642e+02, 2.48762800e+02, 2.70206183e+01,\n",
              "       2.15413768e+02, 3.26481408e+02, 4.92253308e+02, 1.84237389e+02,\n",
              "       3.48735413e+02, 3.21767250e+00, 1.54987959e+02, 7.53862592e+01,\n",
              "       2.90249233e+02, 2.46600568e+02, 1.46165779e+02, 3.36445377e+02,\n",
              "       6.88672998e+01, 3.11661313e+02, 1.64459907e+01, 4.68768739e+02,\n",
              "       1.00993674e+02, 3.42365485e+02, 4.93698298e+02, 4.04494575e+02,\n",
              "       4.83003816e+02, 2.83307169e+02, 3.70385957e+02, 1.06949588e+02,\n",
              "       6.41656752e+01, 5.05430978e+02, 2.53212171e+02, 4.07212473e+02,\n",
              "       5.64475021e+02, 3.11017629e+01, 6.45761598e+01, 5.79077371e+02,\n",
              "       5.92875558e+02, 1.98884516e+02, 5.25346641e+02, 2.92518405e+02,\n",
              "       4.88007413e+02, 5.88693312e+02, 3.31026576e+02, 4.43970509e+02,\n",
              "       8.70420860e+01, 4.17652843e+02, 4.60252663e+02, 7.79938159e+01,\n",
              "       2.34732793e+02, 5.47159070e+02, 2.34392821e+02, 7.14625567e+01,\n",
              "       3.87403246e+02, 4.39408937e+02, 5.64587551e+02, 1.15557888e+02,\n",
              "       6.77236215e+01, 3.27649481e+02, 1.64905946e+02, 8.73004867e+01,\n",
              "       4.17901924e+02, 3.11567791e+02, 4.45104793e+02, 4.89588359e+02,\n",
              "       5.59212223e+02, 5.21257931e+02, 7.98801549e+01, 3.85916558e+02,\n",
              "       3.92634102e+02, 3.81713235e+01, 6.00293143e+02, 1.54324288e+02,\n",
              "       4.00697730e+02, 1.76039532e+02, 5.58632485e-01, 5.82183019e+02,\n",
              "       4.73384033e+02, 4.78918287e+02, 1.61039336e+02, 1.75207714e+02,\n",
              "       2.75294182e+02, 7.47822749e+01, 6.05844242e+02, 5.92345445e+02,\n",
              "       5.77334042e+02, 1.37039554e+02, 2.48166974e+02, 1.46578856e+02,\n",
              "       2.81624980e+02, 1.76525511e+02, 5.43950910e+02, 1.62349580e+02,\n",
              "       3.90895156e+02, 2.81572153e+02, 5.12448019e+02, 4.98793656e+02,\n",
              "       1.13022745e+02, 5.00397345e+02, 4.42914349e+02, 6.92367272e+01,\n",
              "       4.99825087e+02, 2.12180487e+01, 6.19504145e+02, 6.34953858e+02,\n",
              "       4.58372521e+02, 3.27720287e+02, 2.20802657e+02, 3.88190559e+02,\n",
              "       1.84845609e+02, 1.00666409e+02, 6.31965197e+02, 1.44083050e+02,\n",
              "       7.28160045e+01, 6.24944543e+02, 4.53986326e+02, 2.22530538e+02,\n",
              "       1.69623079e+02, 8.39658459e+01, 5.49558809e+02, 2.51995541e+02,\n",
              "       6.43102500e+02, 4.31226927e+01, 2.95761005e+02, 1.70942651e+02,\n",
              "       1.33773767e+02, 5.17732379e+02, 3.64261274e+02, 4.13109765e+02,\n",
              "       5.11407690e+02, 4.52948373e+02, 6.19228067e+01, 1.43752784e+02,\n",
              "       3.69730529e+02, 3.87817094e+02, 1.01372429e+02, 1.12417291e+02,\n",
              "       5.96731902e+02, 2.57767472e+02, 5.99116429e+02, 3.86994683e+02,\n",
              "       2.76483646e+02, 6.95269623e+02, 2.49638287e+00, 5.12151344e+02,\n",
              "       5.73627768e+02, 6.97425901e+02, 6.03930310e+02, 3.39377695e+02,\n",
              "       1.30075020e+02, 3.27030267e+02, 6.99317368e+01, 6.04207796e+02,\n",
              "       6.95421672e+02, 1.71353556e+01, 2.62161506e+02, 3.89928299e+02,\n",
              "       4.74680382e+01, 5.65737757e+01, 5.54889315e+02, 1.67677779e+02,\n",
              "       3.04202594e+02, 4.00592829e+02, 7.04461825e+00, 5.20713439e+02,\n",
              "       1.13986412e+02, 3.58216108e+02, 4.53873894e+02, 2.52772093e+02,\n",
              "       3.97833011e+02, 6.85265722e+02, 6.07773242e+02, 6.15011523e+02,\n",
              "       6.95626575e+02, 3.60638355e+02, 3.25047736e+02, 5.44226365e+02,\n",
              "       4.06011145e+02, 6.69232016e+02, 6.52090792e+01, 3.49137509e+02,\n",
              "       7.03543168e+02, 6.44841012e+01, 6.32972222e+02, 3.84960951e+02,\n",
              "       6.93502357e+02, 3.53387974e+02, 2.29956346e+02, 3.06295899e+02,\n",
              "       1.99966021e+02, 3.12310218e+02, 3.62867877e+02, 4.88160752e+01,\n",
              "       1.88098918e+02, 5.11269802e+02, 1.51175393e+02, 3.66891099e+02,\n",
              "       1.96949825e+02, 3.94281689e+02, 7.49308511e+02, 4.22036707e+02,\n",
              "       6.75150079e+02, 6.99072939e+02, 5.87996521e+02, 3.55656748e+02,\n",
              "       2.09476868e+02, 9.48983104e+01, 2.85221706e+02, 2.67507297e+02,\n",
              "       3.06612233e+02, 1.52946446e+02, 7.34809794e+02, 3.57417256e+02,\n",
              "       4.86240326e+02, 1.59549656e+02, 7.49039677e+02, 1.72603574e+02,\n",
              "       7.57246015e+02, 5.14527112e+02, 7.31583400e+02, 1.46884506e+01,\n",
              "       1.80744124e+01, 6.30375190e+02, 4.20858907e+02, 3.23911860e+02,\n",
              "       7.77732107e+02, 4.35170737e+02, 4.18044330e+02, 1.73273958e+02,\n",
              "       5.56937444e+02, 3.48624980e+02, 2.47404595e+02, 2.00430917e+02,\n",
              "       6.55139406e+02, 7.21274136e+02, 3.67252861e+02, 6.90540071e+02,\n",
              "       1.39498357e+02, 6.76237351e+02, 3.43921341e+02, 1.74694590e+02,\n",
              "       4.15510996e+02, 2.74322964e+02, 6.26026188e+02, 6.56550406e+02,\n",
              "       5.14898155e+02, 7.15369278e+02, 7.98994638e+02, 2.59164207e+02,\n",
              "       1.52736998e+01, 1.48675432e+02, 4.99260595e+02, 2.71073885e+02,\n",
              "       3.44194347e+02, 6.32460383e+02, 5.99304724e+02, 3.38582453e+02,\n",
              "       5.63047105e+01, 4.49862231e+02, 7.47515111e+02, 1.37359601e+02,\n",
              "       1.30930612e+02, 4.04462159e+02, 2.06108086e+02, 4.05282121e+01,\n",
              "       4.75452210e+02, 5.15987991e+02, 3.73740462e+02, 3.80953853e+02,\n",
              "       7.85199965e+02, 2.89472164e+02, 1.50033057e+02, 3.29661245e+02,\n",
              "       1.22518182e+01, 2.97408196e+02, 2.92432442e+01, 7.20492594e+02,\n",
              "       2.72013102e+02, 8.23802781e+02, 6.29948258e+02, 7.14907929e+02,\n",
              "       4.49421176e+02, 1.36321858e+02, 3.23733124e+02, 2.76299619e+02,\n",
              "       1.15965404e+01, 7.21750618e+02, 6.72441902e+02, 5.52792725e+02,\n",
              "       1.16066140e+02, 3.86320354e+02, 5.16156850e+02, 5.97015181e+02,\n",
              "       1.22589133e+02, 5.91107305e+02, 6.72547114e+02, 2.81867629e+01,\n",
              "       4.70963219e+02, 4.39891679e+02, 2.75537303e+02, 4.96407652e+02,\n",
              "       4.32128449e+02, 4.69399841e+02, 7.79699744e+02, 3.77577770e+02,\n",
              "       3.42261306e+02, 1.75436655e+01, 7.84304001e+01, 4.63800790e+02,\n",
              "       7.51284074e+02, 4.06433038e+02, 6.12098299e+01, 9.59873498e+01,\n",
              "       8.74656109e+02, 6.90611139e+02, 3.21026496e+02, 8.47040367e+02,\n",
              "       6.75340180e+02, 6.92658519e+02, 4.95232744e+02, 2.59525342e+02,\n",
              "       5.86922920e+02, 6.10236297e+02, 4.24889925e+02, 8.43570985e+02,\n",
              "       5.97121032e+02, 6.21449083e+02, 4.12641362e+02, 3.94006737e+02,\n",
              "       1.08467499e+02, 5.60499433e+02, 2.41116292e+02, 1.69805315e+01,\n",
              "       1.00181991e+02, 5.21295036e+02, 1.70340530e+02, 6.40874022e+02,\n",
              "       5.47249260e+02, 3.15407472e+02, 8.02469332e+02, 4.15104651e+02,\n",
              "       6.24085002e+01, 7.64419887e+02, 1.93056077e+02, 1.00354589e+02,\n",
              "       1.69999412e+02, 4.77672248e+02, 3.87002882e+02, 1.14069382e+02,\n",
              "       1.17062504e+02, 6.05413313e+02, 7.70718550e+02, 8.28840731e+02,\n",
              "       4.36881175e+02, 4.18102043e+02, 3.53920988e+02, 7.83375226e+02,\n",
              "       6.77762930e+02, 2.03219885e+02, 4.11354543e+02, 8.16360430e+02,\n",
              "       1.27092053e+02, 8.35443593e+02, 7.01251128e+02, 3.72767636e+02,\n",
              "       1.33452637e+02, 4.83766730e+02, 3.90533451e+02, 2.38578875e+02,\n",
              "       2.90807835e+02, 7.25083045e+02, 2.96045186e+02, 1.03882275e+02,\n",
              "       7.14931623e+02, 7.88278419e+02, 6.68088547e+02, 4.56730656e+02,\n",
              "       9.37857274e+02, 2.35232970e+02, 3.64179251e+02, 7.20677259e+02,\n",
              "       8.54166284e+02, 1.50965871e+02, 2.64128183e+01, 3.55068480e+00,\n",
              "       6.68868809e+01, 2.75356291e+02, 3.52435234e+02, 2.84543986e+02,\n",
              "       6.57409512e+02, 8.63292438e+02, 5.35639027e+02, 6.63849898e+02,\n",
              "       5.10526174e+02, 1.39378880e+02, 1.72597816e+02, 7.86573977e+01,\n",
              "       1.16183233e+02, 7.12589152e+02, 4.94626969e+02, 5.79675907e+02,\n",
              "       4.77718303e+02, 5.17738948e+02, 8.82048815e+02, 7.24764798e+01,\n",
              "       6.89689334e+01, 2.06695083e+02, 3.23501352e+01, 6.74763097e+02,\n",
              "       4.27036481e+02, 4.25260399e+02, 1.55943480e+02, 4.76775994e+01,\n",
              "       1.03686709e+02, 2.87862290e+02, 4.75603442e+02, 8.11974863e+01,\n",
              "       4.37093812e+02, 2.95596592e+02, 1.75786212e+01, 3.50058494e+02,\n",
              "       1.49537643e+02, 5.70944127e+02, 4.90520078e+01, 7.48875549e+01,\n",
              "       7.41766225e+02, 1.46271199e+02, 6.65094548e+01, 6.58132661e+02,\n",
              "       8.54299426e+02, 9.11751884e+01, 8.53215996e+02, 6.88195828e+02,\n",
              "       5.88548701e+02, 3.09355995e+02, 9.44285213e+02, 4.24151865e+02])"
            ]
          },
          "metadata": {
            "tags": []
          },
          "execution_count": 17
        }
      ]
    },
    {
      "cell_type": "markdown",
      "metadata": {
        "id": "QXNH3IE_p0Dt",
        "colab_type": "text"
      },
      "source": [
        "We now have sales prices for 1000 items currently for sale at BuyStuff. Now create an RDD called `price_items` using the newly created data with 10 slices. After you create it, use one of the basic actions to see what's in the RDD."
      ]
    },
    {
      "cell_type": "code",
      "metadata": {
        "id": "WY1f5h5Gp0Du",
        "colab_type": "code",
        "colab": {
          "base_uri": "https://localhost:8080/",
          "height": 85
        },
        "outputId": "31731dd9-13a7-4970-fc2f-21c2e22766b4"
      },
      "source": [
        "price_items = sc.parallelize(sales_figures, numSlices=10)\n",
        "price_items.take(4)\n"
      ],
      "execution_count": 19,
      "outputs": [
        {
          "output_type": "execute_result",
          "data": {
            "text/plain": [
              "[0.7550233401856276,\n",
              " 1.0191427173547274,\n",
              " 1.4333369582876823,\n",
              " 1.5965651001060466]"
            ]
          },
          "metadata": {
            "tags": []
          },
          "execution_count": 19
        }
      ]
    },
    {
      "cell_type": "markdown",
      "metadata": {
        "id": "TVRtbQhtp0Dx",
        "colab_type": "text"
      },
      "source": [
        "Now let's perform some operations on this simple dataset. To begin with, create a function that will take into account how much money BuyStuff will receive after sales tax has been applied (assume a sales tax of 8%). To make this happen, create a function called `sales_tax()` that returns the amount of money our company will receive after the sales tax has been applied. The function will have this parameter:\n",
        "\n",
        "* `item`: (float) number to be multiplied by the sales tax.\n",
        "\n",
        "\n",
        "Apply that function to the rdd by using the `.map()` method and assign it to a variable `renenue_minus_tax`"
      ]
    },
    {
      "cell_type": "code",
      "metadata": {
        "id": "MnMTk54Hp0Dy",
        "colab_type": "code",
        "colab": {}
      },
      "source": [
        "def sales_tax(num):\n",
        "    taxTot = num * .08\n",
        "    return num - taxTot\n",
        "\n",
        "revenue_minus_tax = price_items.map(sales_tax)"
      ],
      "execution_count": 21,
      "outputs": []
    },
    {
      "cell_type": "markdown",
      "metadata": {
        "id": "3GJgMkqlp0D1",
        "colab_type": "text"
      },
      "source": [
        "Remember, Spark has __lazy evaluation__, which means that the `sales_tax()` function is a transformer that is not executed until you call an action. Use one of the collection methods to execute the transformer now a part of the RDD and observe the contents of the `revenue_minus_tax` rdd."
      ]
    },
    {
      "cell_type": "code",
      "metadata": {
        "scrolled": true,
        "id": "dDy19E3Up0D2",
        "colab_type": "code",
        "colab": {
          "base_uri": "https://localhost:8080/",
          "height": 187
        },
        "outputId": "852e5bac-ccb0-4eb7-d544-5a088ed5d575"
      },
      "source": [
        "# perform action to retrieve rdd values\n",
        "revenue_minus_tax.take(10)"
      ],
      "execution_count": 22,
      "outputs": [
        {
          "output_type": "execute_result",
          "data": {
            "text/plain": [
              "[0.6946214729707774,\n",
              " 0.9376112999663492,\n",
              " 1.3186700016246677,\n",
              " 1.468839892097563,\n",
              " 0.7653291514480508,\n",
              " 4.165052865147347,\n",
              " 2.441757474220873,\n",
              " 5.097306397477676,\n",
              " 2.862404233708676,\n",
              " 1.6416291509256145]"
            ]
          },
          "metadata": {
            "tags": []
          },
          "execution_count": 22
        }
      ]
    },
    {
      "cell_type": "markdown",
      "metadata": {
        "id": "tEA0NkJFp0D6",
        "colab_type": "text"
      },
      "source": [
        "### Lambda Functions\n",
        "\n",
        "Note that you can also use lambda functions if you want to quickly perform simple operations on data without creating a function. Let's assume that BuyStuff has also decided to offer a 10% discount on all of their items on the pre-tax amounts of each item. Use a lambda function within a `.map()` method to apply the additional 10% loss in revenue for BuyStuff and assign the transformed RDD to a new RDD called `discounted`."
      ]
    },
    {
      "cell_type": "code",
      "metadata": {
        "id": "3cYE0otsp0D6",
        "colab_type": "code",
        "colab": {}
      },
      "source": [
        "discounted = price_items.map(lambda x: x*.9)"
      ],
      "execution_count": 23,
      "outputs": []
    },
    {
      "cell_type": "code",
      "metadata": {
        "scrolled": true,
        "id": "_qOkSoCTp0D8",
        "colab_type": "code",
        "colab": {
          "base_uri": "https://localhost:8080/",
          "height": 187
        },
        "outputId": "c663081a-8ff7-4765-b81d-8cdfa953f74c"
      },
      "source": [
        "discounted.take(10)"
      ],
      "execution_count": 24,
      "outputs": [
        {
          "output_type": "execute_result",
          "data": {
            "text/plain": [
              "[0.6795210061670648,\n",
              " 0.9172284456192547,\n",
              " 1.2900032624589142,\n",
              " 1.436908590095442,\n",
              " 0.7486915611991802,\n",
              " 4.074508237644143,\n",
              " 2.3886757899986804,\n",
              " 4.986495388836857,\n",
              " 2.8001780547150092,\n",
              " 1.6059415606881011]"
            ]
          },
          "metadata": {
            "tags": []
          },
          "execution_count": 24
        }
      ]
    },
    {
      "cell_type": "markdown",
      "metadata": {
        "id": "gE-hVDFMp0ED",
        "colab_type": "text"
      },
      "source": [
        "## Chaining Methods\n",
        "\n",
        "You are also able to chain methods together with Spark. In one line, remove the tax and discount from the revenue of BuyStuff and use a collection method to see the 15 costliest items."
      ]
    },
    {
      "cell_type": "code",
      "metadata": {
        "scrolled": true,
        "id": "qBav4jKQp0EE",
        "colab_type": "code",
        "colab": {
          "base_uri": "https://localhost:8080/",
          "height": 272
        },
        "outputId": "7b3074b6-88d7-40a2-88ec-0c938662f4bf"
      },
      "source": [
        "price_items.map(sales_tax).map(lambda x : x*0.9).top(15)\n"
      ],
      "execution_count": 25,
      "outputs": [
        {
          "output_type": "execute_result",
          "data": {
            "text/plain": [
              "[781.8681560265247,\n",
              " 776.5458232634664,\n",
              " 730.336418652553,\n",
              " 724.2152581432242,\n",
              " 714.8061388658627,\n",
              " 707.3599250627192,\n",
              " 707.2496835061113,\n",
              " 706.4628449695209,\n",
              " 701.3494236922621,\n",
              " 698.4767756974425,\n",
              " 691.7472948829843,\n",
              " 686.2801249125829,\n",
              " 682.1087027996109,\n",
              " 675.9464360015846,\n",
              " 664.4446067800188]"
            ]
          },
          "metadata": {
            "tags": []
          },
          "execution_count": 25
        }
      ]
    },
    {
      "cell_type": "markdown",
      "metadata": {
        "id": "NH94YHnXp0EK",
        "colab_type": "text"
      },
      "source": [
        "## RDD Lineage\n",
        "\n",
        "\n",
        "We are able to see the full lineage of all the operations that have been performed on an RDD by using the `RDD.toDebugString()` method. As your transformations become more complex, you are encouraged to call this method to get a better understanding of the dependencies between RDDs. Try calling it on the `discounted` RDD to see what RDDs it is dependent on."
      ]
    },
    {
      "cell_type": "code",
      "metadata": {
        "id": "N1a-fJLNp0EK",
        "colab_type": "code",
        "colab": {
          "base_uri": "https://localhost:8080/",
          "height": 54
        },
        "outputId": "7007fc2f-ceda-4b5a-ab55-08fb028f6634"
      },
      "source": [
        "discounted.toDebugString()"
      ],
      "execution_count": 27,
      "outputs": [
        {
          "output_type": "execute_result",
          "data": {
            "text/plain": [
              "b'(10) PythonRDD[11] at RDD at PythonRDD.scala:53 []\\n |   ParallelCollectionRDD[6] at readRDDFromFile at PythonRDD.scala:262 []'"
            ]
          },
          "metadata": {
            "tags": []
          },
          "execution_count": 27
        }
      ]
    },
    {
      "cell_type": "markdown",
      "metadata": {
        "id": "hBgelSD5p0EM",
        "colab_type": "text"
      },
      "source": [
        "### Map vs. Flatmap\n",
        "\n",
        "Depending on how you want your data to be outputted, you might want to use `.flatMap()` rather than a simple `.map()`. Let's take a look at how it performs operations versus the standard map. Let's say we wanted to maintain the original amount BuyStuff receives for each item as well as the new amount after the tax and discount are applied. Create a map function that will return a tuple with (original price, post-discount price)."
      ]
    },
    {
      "cell_type": "code",
      "metadata": {
        "id": "CXuJXMW2p0EN",
        "colab_type": "code",
        "colab": {
          "base_uri": "https://localhost:8080/",
          "height": 71
        },
        "outputId": "21d80433-87a9-493a-9acb-ed06cf9fd9eb"
      },
      "source": [
        "mapped = price_items.map(lambda x: (x, x*0.92 *0.9))\n",
        "print(mapped.count())\n",
        "print(mapped.take(10))"
      ],
      "execution_count": 28,
      "outputs": [
        {
          "output_type": "stream",
          "text": [
            "1000\n",
            "[(0.7550233401856276, 0.6251593256736997), (1.0191427173547274, 0.8438501699697144), (1.4333369582876823, 1.186803001462201), (1.5965651001060466, 1.3219559028878067), (0.8318795124435335, 0.6887962363032458), (4.527231375160159, 3.7485475786326123), (2.6540842111096445, 2.197581726798786), (5.540550432040952, 4.587575757729908), (3.1113089496833437, 2.5761638103378086), (1.7843795118756678, 1.477466235833053)]\n"
          ],
          "name": "stdout"
        }
      ]
    },
    {
      "cell_type": "markdown",
      "metadata": {
        "id": "MOrcrCOrp0EQ",
        "colab_type": "text"
      },
      "source": [
        "Note that we have 1000 tuples created to our specification. Let's take a look at how `.flatMap()` differs in its implementation. Use the `.flatMap()` method with the same function you created above."
      ]
    },
    {
      "cell_type": "code",
      "metadata": {
        "id": "ZHJ30R0Rp0ER",
        "colab_type": "code",
        "colab": {
          "base_uri": "https://localhost:8080/",
          "height": 71
        },
        "outputId": "541a0900-c9b0-420f-f1a9-7f1e2124c97b"
      },
      "source": [
        "flat_mapped = price_items.flatMap(lambda x: (x, x*.92 * .9))\n",
        "print(flat_mapped.count())\n",
        "print(flat_mapped.take(10))"
      ],
      "execution_count": 29,
      "outputs": [
        {
          "output_type": "stream",
          "text": [
            "2000\n",
            "[0.7550233401856276, 0.6251593256736997, 1.0191427173547274, 0.8438501699697144, 1.4333369582876823, 1.186803001462201, 1.5965651001060466, 1.3219559028878067, 0.8318795124435335, 0.6887962363032458]\n"
          ],
          "name": "stdout"
        }
      ]
    },
    {
      "cell_type": "markdown",
      "metadata": {
        "id": "2Ya5Fn3Op0EV",
        "colab_type": "text"
      },
      "source": [
        "Rather than being represented by tuples, all of the  values are now on the same level. When we are trying to combine different items together, it is sometimes necessary to use `.flatMap()` rather than `.map()` in order to properly reduce to our specifications. This is not one of those instances, but in the upcoming lab, you just might have to use it."
      ]
    },
    {
      "cell_type": "markdown",
      "metadata": {
        "id": "5ngLSdqCp0EV",
        "colab_type": "text"
      },
      "source": [
        "## Filter\n",
        "After meeting with some external consultants, BuyStuff has determined that its business will be more profitable if it focuses on higher ticket items. Now, use the `.filter()` method to select items that bring in more than $300 after tax and discount have been removed. A filter method is a specialized form of a map function that only returns the items that match a certain criterion. In the cell below:\n",
        "* use a lambda function within a `.filter()` method to meet the consultant's suggestion's specifications. set `RDD = selected_items`\n",
        "* calculate the total number of items remaining in BuyStuff's inventory"
      ]
    },
    {
      "cell_type": "code",
      "metadata": {
        "id": "ZAGJ9naAp0EV",
        "colab_type": "code",
        "colab": {
          "base_uri": "https://localhost:8080/",
          "height": 34
        },
        "outputId": "05bb8d9c-476c-495b-9d04-63d78c9dd973"
      },
      "source": [
        "# use the filter function\n",
        "selected_items = discounted.filter(lambda x: x>300)\n",
        "\n",
        "# calculate total remaining in inventory \n",
        "selected_items.count()"
      ],
      "execution_count": 30,
      "outputs": [
        {
          "output_type": "execute_result",
          "data": {
            "text/plain": [
              "310"
            ]
          },
          "metadata": {
            "tags": []
          },
          "execution_count": 30
        }
      ]
    },
    {
      "cell_type": "markdown",
      "metadata": {
        "id": "7KZ1f_Wgp0EY",
        "colab_type": "text"
      },
      "source": [
        "## Reduce\n",
        "\n",
        "Reduce functions are where you are in some way combing all of the variables that you have mapped out. Here is an example of how a reduce function works when the task is to sum all values:\n",
        "\n",
        "<img src = \"./images/reduce_function.png\" width = \"600\">  \n",
        "\n",
        "\n",
        "As you can see, the operation is performed within each partition first, after which, the results of the computations in each partition are combined to come up with one final answer.  \n",
        "\n",
        "Now it's time to figure out how much money BuyStuff would make from selling one of all of its items after they've reduced their inventory. Use the `.reduce()` method with a lambda function to add up all of the values in the RDD. Your lambda function should have two variables. "
      ]
    },
    {
      "cell_type": "code",
      "metadata": {
        "id": "M9Ro6zZkp0EZ",
        "colab_type": "code",
        "colab": {
          "base_uri": "https://localhost:8080/",
          "height": 34
        },
        "outputId": "a8adc495-9063-498a-821a-64d0a800d010"
      },
      "source": [
        "selected_items.reduce(lambda x,y: x+y)"
      ],
      "execution_count": 31,
      "outputs": [
        {
          "output_type": "execute_result",
          "data": {
            "text/plain": [
              "144931.2451181205"
            ]
          },
          "metadata": {
            "tags": []
          },
          "execution_count": 31
        }
      ]
    },
    {
      "cell_type": "markdown",
      "metadata": {
        "id": "U3NEx6H5p0Eh",
        "colab_type": "text"
      },
      "source": [
        "The time has come for BuyStuff to open up shop and start selling its goods. It only has one of each item, but it's allowing 50 lucky users to buy as many items as they want while they remain in stock. Within seconds, BuyStuff is sold out. Below, you'll find the sales data in an RDD with tuples of (user, item bought)."
      ]
    },
    {
      "cell_type": "code",
      "metadata": {
        "id": "tTO7W3Mgp0Ek",
        "colab_type": "code",
        "colab": {
          "base_uri": "https://localhost:8080/",
          "height": 136
        },
        "outputId": "d047f12d-a953-499e-b264-7e89fbfbe986"
      },
      "source": [
        "import random\n",
        "random.seed(42)\n",
        "# generating simulated users that have bought each item\n",
        "sales_data = selected_items.map(lambda x: (random.randint(1, 50), x))\n",
        "\n",
        "sales_data.take(7)"
      ],
      "execution_count": 32,
      "outputs": [
        {
          "output_type": "execute_result",
          "data": {
            "text/plain": [
              "[(29, 302.7328770714878),\n",
              " (36, 331.08941168964367),\n",
              " (31, 315.305088244764),\n",
              " (38, 338.19948670570807),\n",
              " (30, 325.71165564802027),\n",
              " (9, 301.01569964631136),\n",
              " (29, 300.70177398204993)]"
            ]
          },
          "metadata": {
            "tags": []
          },
          "execution_count": 32
        }
      ]
    },
    {
      "cell_type": "markdown",
      "metadata": {
        "id": "YMpVmEN4p0En",
        "colab_type": "text"
      },
      "source": [
        "It's time to determine some basic statistics about BuyStuff users.\n",
        "\n",
        "Let's start off by creating an RDD that determines how much each user spent in total.\n",
        "To do this we can use a method called `.reduceByKey()` to perform reducing operations while grouping by keys. After you have calculated the total, use the `.sortBy()` method on the RDD to rank the users from the highest spending to the least spending. "
      ]
    },
    {
      "cell_type": "code",
      "metadata": {
        "id": "t-QB25fDp0Eo",
        "colab_type": "code",
        "colab": {
          "base_uri": "https://localhost:8080/",
          "height": 187
        },
        "outputId": "505beb9a-d6e7-496f-e0cf-08e80301e26c"
      },
      "source": [
        "# calculate how much each user spent\n",
        "total_spent = sales_data.reduceByKey(lambda x, y: x + y)\n",
        "total_spent.take(10)"
      ],
      "execution_count": 33,
      "outputs": [
        {
          "output_type": "execute_result",
          "data": {
            "text/plain": [
              "[(30, 3220.4388427962067),\n",
              " (20, 3285.5295555378943),\n",
              " (10, 714.4561850489172),\n",
              " (40, 4457.782578357703),\n",
              " (50, 3150.267130997971),\n",
              " (31, 3125.655561243314),\n",
              " (21, 3026.7084563886256),\n",
              " (1, 2572.283724006425),\n",
              " (41, 2501.990838678034),\n",
              " (11, 1121.1365012887486)]"
            ]
          },
          "metadata": {
            "tags": []
          },
          "execution_count": 33
        }
      ]
    },
    {
      "cell_type": "code",
      "metadata": {
        "id": "SvVeQvH5p0Eq",
        "colab_type": "code",
        "colab": {
          "base_uri": "https://localhost:8080/",
          "height": 833
        },
        "outputId": "157be5d9-8adc-4c53-9eaf-09eed44b889c"
      },
      "source": [
        "# sort the users from highest to lowest spenders\n",
        "total_spent.sortBy(lambda x: x[1],ascending = False).collect()"
      ],
      "execution_count": 34,
      "outputs": [
        {
          "output_type": "execute_result",
          "data": {
            "text/plain": [
              "[(9, 7118.840166223609),\n",
              " (29, 5840.052804636802),\n",
              " (28, 5491.555785804291),\n",
              " (42, 5240.939138654442),\n",
              " (39, 5062.973422247257),\n",
              " (3, 5007.181543765433),\n",
              " (36, 4893.485557531116),\n",
              " (40, 4457.782578357703),\n",
              " (33, 4372.175070291609),\n",
              " (16, 4325.203329736933),\n",
              " (32, 3962.060504433691),\n",
              " (18, 3961.8233682848922),\n",
              " (38, 3811.99526766456),\n",
              " (47, 3494.884731496461),\n",
              " (8, 3297.0780812257444),\n",
              " (20, 3285.5295555378943),\n",
              " (30, 3220.4388427962067),\n",
              " (35, 3178.8085868112335),\n",
              " (50, 3150.267130997971),\n",
              " (31, 3125.655561243314),\n",
              " (12, 3091.569035556424),\n",
              " (21, 3026.7084563886256),\n",
              " (24, 2944.9072314483783),\n",
              " (7, 2938.312175201043),\n",
              " (15, 2904.582572240108),\n",
              " (4, 2770.217927739127),\n",
              " (1, 2572.283724006425),\n",
              " (44, 2570.0475546223524),\n",
              " (23, 2519.582783058173),\n",
              " (41, 2501.990838678034),\n",
              " (5, 2424.726327949018),\n",
              " (34, 2380.89574861059),\n",
              " (49, 2267.5075907002556),\n",
              " (2, 2133.1093629644756),\n",
              " (6, 2097.6933773620144),\n",
              " (22, 2071.316503194427),\n",
              " (14, 2028.3698041523921),\n",
              " (46, 2022.3220663798602),\n",
              " (45, 1934.5529852513505),\n",
              " (13, 1916.626105577097),\n",
              " (17, 1871.8848551230674),\n",
              " (26, 1710.5373533646682),\n",
              " (19, 1607.668516051615),\n",
              " (11, 1121.1365012887486),\n",
              " (43, 1032.942365519324),\n",
              " (25, 776.963194419416),\n",
              " (10, 714.4561850489172),\n",
              " (48, 679.60294848341)]"
            ]
          },
          "metadata": {
            "tags": []
          },
          "execution_count": 34
        }
      ]
    },
    {
      "cell_type": "markdown",
      "metadata": {
        "id": "u1HUjV7Ep0Es",
        "colab_type": "text"
      },
      "source": [
        "Next, let's determine how many items were bought per user. This can be solved in one line using an RDD method. After you've counted the total number of items bought per person, sort the users from most number of items bought to least number of items. Time to start a customer loyalty program!"
      ]
    },
    {
      "cell_type": "code",
      "metadata": {
        "id": "WBCXGOkXp0Et",
        "colab_type": "code",
        "colab": {
          "base_uri": "https://localhost:8080/",
          "height": 833
        },
        "outputId": "f65a9379-0fe8-451e-8b7c-1e429ea22bbb"
      },
      "source": [
        "total_items = sales_data.countByKey()\n",
        "sorted(total_items.items(),key=lambda kv:kv[1],reverse=True)"
      ],
      "execution_count": 35,
      "outputs": [
        {
          "output_type": "execute_result",
          "data": {
            "text/plain": [
              "[(9, 16),\n",
              " (29, 15),\n",
              " (42, 14),\n",
              " (28, 12),\n",
              " (3, 12),\n",
              " (36, 10),\n",
              " (18, 10),\n",
              " (39, 10),\n",
              " (31, 8),\n",
              " (38, 8),\n",
              " (30, 8),\n",
              " (21, 8),\n",
              " (16, 8),\n",
              " (33, 8),\n",
              " (20, 8),\n",
              " (40, 8),\n",
              " (50, 8),\n",
              " (8, 8),\n",
              " (32, 8),\n",
              " (35, 7),\n",
              " (4, 6),\n",
              " (44, 6),\n",
              " (47, 6),\n",
              " (41, 6),\n",
              " (23, 6),\n",
              " (7, 6),\n",
              " (24, 6),\n",
              " (12, 6),\n",
              " (34, 5),\n",
              " (14, 4),\n",
              " (45, 4),\n",
              " (1, 4),\n",
              " (26, 4),\n",
              " (2, 4),\n",
              " (46, 4),\n",
              " (5, 4),\n",
              " (49, 4),\n",
              " (22, 4),\n",
              " (15, 4),\n",
              " (6, 4),\n",
              " (13, 4),\n",
              " (17, 3),\n",
              " (43, 3),\n",
              " (48, 2),\n",
              " (10, 2),\n",
              " (19, 2),\n",
              " (25, 2),\n",
              " (11, 1)]"
            ]
          },
          "metadata": {
            "tags": []
          },
          "execution_count": 35
        }
      ]
    },
    {
      "cell_type": "markdown",
      "metadata": {
        "id": "RmKn5TDBp0Ev",
        "colab_type": "text"
      },
      "source": [
        "### Additional Reading\n",
        "\n",
        "- [The original paper on RDDs](https://cs.stanford.edu/~matei/papers/2012/nsdi_spark.pdf)\n",
        "- [RDDs in Apache Spark](https://data-flair.training/blogs/create-rdds-in-apache-spark/)\n",
        "- [Programming with RDDs](https://runawayhorse001.github.io/LearningApacheSpark/rdd.html)\n",
        "- [RDD Transformations and Actions Summary](https://www.analyticsvidhya.com/blog/2016/10/using-pyspark-to-perform-transformations-and-actions-on-rdd/)"
      ]
    },
    {
      "cell_type": "markdown",
      "metadata": {
        "id": "I-YrZ__Mp0Ey",
        "colab_type": "text"
      },
      "source": [
        "## Summary\n",
        "\n",
        "In this lab we went through a brief introduction to RDD creation from a Python collection, setting a number of logical partitions for an RDD and extracting lineage. We also used transformations and actions to perform calculations across RDDs on a distributed setup. In the next lab, you'll get the chance to apply these transformations on different books to calculate word counts and various statistics.\n"
      ]
    }
  ]
}